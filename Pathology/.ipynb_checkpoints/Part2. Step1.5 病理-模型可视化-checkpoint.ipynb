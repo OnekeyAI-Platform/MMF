{
 "cells": [
  {
   "cell_type": "markdown",
   "id": "39c9708b",
   "metadata": {},
   "source": [
    "## 打印可视化界面"
   ]
  },
  {
   "cell_type": "code",
   "execution_count": null,
   "id": "e9eb2b98",
   "metadata": {
    "scrolled": true
   },
   "outputs": [],
   "source": [
    "from onekey_algo.datasets.image_loader import default_loader\n",
    "from onekey_algo.custom.components.comp2 import show_cam_on_image\n",
    "import torch\n",
    "import os\n",
    "import random\n",
    "\n",
    "from onekey_algo.custom.components.comp2 import extract, init_from_model, init_from_onekey\n",
    "from onekey_algo.utils.MultiProcess import MultiProcess\n",
    "import os\n",
    "import matplotlib\n",
    "matplotlib.use('Agg')\n",
    "os.environ['KMP_DUPLICATE_LIB_OK'] = 'True'\n",
    "\n",
    "import monai\n",
    "from glob import glob\n",
    "import matplotlib.pyplot as plt\n",
    "import pandas as pd\n",
    "\n",
    "samples = glob(r'D:\\20240103-JiYang\\Pathology\\patches/*/*.jpg')\n",
    "model_dir = r'D:\\20240103-JiYang\\Pathology\\models\\densenet121'\n",
    "random.shuffle(samples)\n",
    "def viz_sample(samples, thread_id):\n",
    "    model, transformer, device = init_from_onekey(os.path.join(model_dir, 'viz'))\n",
    "    for n, m in model.named_modules():\n",
    "        print('Feature name:', n, \"|| Module:\", m)\n",
    "    target_layer = \"layer4.2.conv3\"\n",
    "    target_layer = 'features.denseblock4.denselayer16.conv2'\n",
    "#     return\n",
    "    gradcam = monai.visualize.GradCAM(nn_module=model, target_layers=target_layer)\n",
    "\n",
    "    random.shuffle(samples)\n",
    "    viz_dir = os.path.join(model_dir, 'Grad-CAM')\n",
    "    os.makedirs(viz_dir, exist_ok=True)\n",
    "    for sample in samples:\n",
    "        if not os.path.exists(sample):\n",
    "            continue\n",
    "        img = default_loader(sample)\n",
    "        sample_ = transformer(img)\n",
    "        sample_  = sample_.view(1, *sample_.size()).to(device)\n",
    "        res_cam = gradcam(x=sample_, class_idx=None)\n",
    "        fig, axes = plt.subplots(1, 2, figsize=(20, 10), facecolor='white')\n",
    "    #     axes[0].imshow(-res_cam[0][0].cpu(), cmap='jet')\n",
    "        axes[0].imshow(img.resize(sample_.size()[2:]))\n",
    "        axes[0].axis('off')\n",
    "    #     plt.savefig(f\"viz/{os.path.basename(sample).replace('.png', '_se.png')}\", bbox_inches = 'tight')\n",
    "    #     plt.show()\n",
    "    #     plt.figure(figsize=(10, 10))\n",
    "    #     plt.axis('off')\n",
    "        imshow = axes[1].imshow(show_cam_on_image(img.resize(sample_.size()[2:]), -res_cam[0][0].cpu(), use_rgb=True, reverse=False), \n",
    "                                cmap='jet')\n",
    "        axes[1].axis('off')\n",
    "        cax = fig.add_axes([0.92, 0.15, 0.02, axes[1].get_position().height]) \n",
    "        plt.colorbar(imshow, cax=cax)\n",
    "        plt.savefig(f'{viz_dir}/{os.path.basename(sample)}', bbox_inches = 'tight')\n",
    "        plt.close()\n",
    "viz_sample(samples, thread_id=1)\n",
    "# MultiProcess(func=viz_sample, samples=samples, num_process=1).run()"
   ]
  },
  {
   "cell_type": "code",
   "execution_count": null,
   "id": "5048302a",
   "metadata": {},
   "outputs": [],
   "source": []
  }
 ],
 "metadata": {
  "kernelspec": {
   "display_name": "Python 3 (ipykernel)",
   "language": "python",
   "name": "python3"
  },
  "language_info": {
   "codemirror_mode": {
    "name": "ipython",
    "version": 3
   },
   "file_extension": ".py",
   "mimetype": "text/x-python",
   "name": "python",
   "nbconvert_exporter": "python",
   "pygments_lexer": "ipython3",
   "version": "3.7.12"
  }
 },
 "nbformat": 4,
 "nbformat_minor": 5
}
