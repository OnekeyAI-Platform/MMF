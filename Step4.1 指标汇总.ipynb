{
 "cells": [
  {
   "cell_type": "code",
   "execution_count": null,
   "id": "321dd425",
   "metadata": {},
   "outputs": [],
   "source": [
    "import pandas as pd\n",
    "import shutil\n",
    "import os\n",
    "import numpy as np\n",
    "import matplotlib.pyplot as plt\n",
    "import onekey_algo.custom.components as okcomp\n",
    "from onekey_algo import get_param_in_cwd\n",
    "\n",
    "plt.rcParams['figure.dpi'] = 300\n",
    "model_names = ['Clinical', 'DLRadiomics', 'Pathomics', 'Nomogram']\n",
    "# 获取配置\n",
    "task = get_param_in_cwd('task_column') or 'label'\n",
    "bst_model = get_param_in_cwd('sel_model') or 'LR'\n",
    "labelf = 'clinic_sel.csv'\n",
    "group_info = get_param_in_cwd('dataset_column') or 'group'\n",
    "\n",
    "# 读取label文件。\n",
    "labels = [task]\n",
    "label_data_ = pd.read_csv(labelf)\n",
    "# label_data_['ID'] = label_data_['ID'].map(lambda x: f\"{x}v.nii.gz\")\n",
    "# label_data_ = label_data_[['ID', group_info, task]]\n",
    "label_data_ = label_data_.dropna(axis=0)\n",
    "\n",
    "ids = label_data_['ID']\n",
    "print(label_data_.columns)\n",
    "label_data = label_data_[['ID'] + labels]\n",
    "\n",
    "label_data"
   ]
  },
  {
   "cell_type": "markdown",
   "id": "ac5ee2cf",
   "metadata": {},
   "source": [
    "# 训练集-汇总"
   ]
  },
  {
   "cell_type": "code",
   "execution_count": null,
   "id": "08658c13",
   "metadata": {},
   "outputs": [],
   "source": [
    "import pandas as pd\n",
    "from onekey_algo.custom.components.comp1 import normalize_df\n",
    "subset = 'train'\n",
    "Clinic_results = pd.merge(pd.read_csv(f'./results/Clinic_RandomForest_{subset}.csv', header=0), label_data, on='ID', how='inner')\n",
    "DLR_results = pd.merge(pd.read_csv(f'./results/Rad_3DL_ShuffleNet_{subset}.csv', header=0), label_data, on='ID', how='inner')\n",
    "Path_results = pd.merge(pd.read_csv(f'./Pathology/results/Path_XGBoost_{subset}.csv', header=0, converters={'ID': lambda x: f\"{x}.nii.gz\"}), \n",
    "                        label_data, on='ID', how='inner')\n",
    "ALL_results = pd.merge(pd.merge(Clinic_results, DLR_results, on='ID', how='inner'), \n",
    "                                Path_results, on='ID', how='inner')\n",
    "ALL_results.columns = ['ID', '-0', model_names[0], task, \n",
    "                       '-00', model_names[1], '-l',\n",
    "                       '-000', model_names[2], '-ll',]\n",
    "\n",
    "# ALL_results = normalize_df(ALL_results, method='minmax', not_norm=['ID', 'label'])\n",
    "Clinic = pd.read_csv('clinic_sel.csv')[['ID', 'Sex', 'Smoking_History']]\n",
    "cnames = list(Clinic.columns[1:])\n",
    "ALL_results = pd.merge(ALL_results, Clinic, on='ID', how='inner')\n",
    "ALL_results = ALL_results.dropna(axis=1)\n",
    "train_ids = ALL_results[['ID']]\n",
    "ALL_results"
   ]
  },
  {
   "cell_type": "code",
   "execution_count": null,
   "id": "07de275b",
   "metadata": {},
   "outputs": [],
   "source": [
    "from sklearn.linear_model import LogisticRegression\n",
    "from sklearn.svm import SVC\n",
    "from onekey_algo.custom.components import metrics\n",
    "\n",
    "model = LogisticRegression(random_state=0)\n",
    "# model = SVC(probability=True, random_state=0)\n",
    "data_x = ALL_results[cnames + model_names[1:-1]]\n",
    "data_y = ALL_results[task]\n",
    "from sklearn.utils import shuffle\n",
    "xxxx, yyyy = shuffle(data_x, data_y)\n",
    "model.fit(data_x, data_y)\n",
    "results = model.predict_proba(data_x)\n",
    "results = pd.DataFrame(results, index=ALL_results['ID'], columns=[f'{task}-0', f'{task}-1']).reset_index()\n",
    "results.to_csv(f'./results/Nomo_{subset}.csv', index=False, header=True)\n",
    "pd.DataFrame([metrics.analysis_pred_binary(ALL_results[task], results[f'{task}-1'])], \n",
    "                  columns=['acc', 'auc', '95%CI', 'Sensitivity', 'Specificity', 'PPV', 'NPV', 'Precision', 'Recall', 'F1', 'Threshold'])"
   ]
  },
  {
   "cell_type": "code",
   "execution_count": null,
   "id": "b6ac5dad",
   "metadata": {},
   "outputs": [],
   "source": [
    "print(model.coef_, model.intercept_)"
   ]
  },
  {
   "cell_type": "code",
   "execution_count": null,
   "id": "4e04731e",
   "metadata": {
    "scrolled": false
   },
   "outputs": [],
   "source": [
    "results.columns = ['ID', '-', model_names[-1]]\n",
    "ALL_results = pd.merge(ALL_results, results, on='ID', how='inner')\n",
    "gt = [np.array(ALL_results[labels]) for d in model_names]\n",
    "pred_train = [np.array(ALL_results[mn]) for mn in model_names]\n",
    "okcomp.comp1.draw_roc(gt, pred_train, labels=model_names, title=f\"Model AUC\")\n",
    "plt.savefig(f'img/{subset}_auc.svg')"
   ]
  },
  {
   "cell_type": "code",
   "execution_count": null,
   "id": "4826febd",
   "metadata": {},
   "outputs": [],
   "source": [
    "from onekey_algo.custom.components.metrics import analysis_pred_binary\n",
    "metric = []\n",
    "for mname, y, score in zip(model_names, gt, pred_train):\n",
    "    # 计算验证集指标\n",
    "    acc, auc, ci, tpr, tnr, ppv, npv, precision, recall, f1, thres = analysis_pred_binary(y, score)\n",
    "    ci = f\"{ci[0]:.4f} - {ci[1]:.4f}\"\n",
    "    metric.append((mname, acc, auc, ci, tpr, tnr, ppv, npv, precision, recall, f1, thres, f\"Train\"))\n",
    "pd.DataFrame(metric, index=None, columns=['Signature', 'Accuracy', 'AUC', '95% CI', 'Sensitivity', 'Specificity', \n",
    "                                          'PPV', 'NPV', 'Precision', 'Recall', 'F1','Threshold', 'Cohort'])"
   ]
  },
  {
   "cell_type": "code",
   "execution_count": null,
   "id": "69899f07",
   "metadata": {},
   "outputs": [],
   "source": [
    "from onekey_algo.custom.components.delong import delong_roc_test\n",
    "from onekey_algo.custom.components.comp1 import draw_matrix\n",
    "\n",
    "delong = []\n",
    "delong_columns = []\n",
    "this_delong = []\n",
    "plt.figure(figsize=(8, 6))\n",
    "cm = np.zeros((len(model_names), len(model_names)))\n",
    "for i, mni in enumerate(model_names):\n",
    "    for j, mnj in enumerate(model_names):\n",
    "        if i <= j:\n",
    "            cm[i][j] = np.nan\n",
    "        else:\n",
    "            cm[i][j] = delong_roc_test(ALL_results[task], ALL_results[mni], ALL_results[mnj])[0][0]\n",
    "cm = pd.DataFrame(cm[1:, :-1], index=model_names[1:], columns=model_names[:-1])\n",
    "draw_matrix(cm, annot=True, cmap='jet_r', cbar=True)\n",
    "plt.title(f'Cohort {subset} Delong')\n",
    "plt.savefig(f'img/delong_each_cohort_{subset}.svg', bbox_inches = 'tight')\n",
    "plt.show()"
   ]
  },
  {
   "cell_type": "code",
   "execution_count": null,
   "id": "4045192a",
   "metadata": {},
   "outputs": [],
   "source": [
    "from onekey_algo.custom.components.comp1 import plot_DCA\n",
    "plot_DCA([ALL_results[model_name] for model_name in model_names], \n",
    "         ALL_results[task], title=f'Cohort {subset} DCA', labels=model_names, y_min=-0.15)\n",
    "plt.savefig(f'img/{subset}_dca.svg')"
   ]
  },
  {
   "cell_type": "code",
   "execution_count": null,
   "id": "40c40079",
   "metadata": {},
   "outputs": [],
   "source": [
    "from onekey_algo.custom.components.comp1 import draw_calibration\n",
    "draw_calibration(pred_scores=pred_train, n_bins=5, remap=True,\n",
    "                 y_test=gt, model_names=model_names)\n",
    "plt.savefig(f'img/{subset}_cali.svg')"
   ]
  },
  {
   "cell_type": "code",
   "execution_count": null,
   "id": "3ec7e842",
   "metadata": {},
   "outputs": [],
   "source": [
    "from onekey_algo.custom.components import stats\n",
    "\n",
    "hosmer = []\n",
    "hosmer.append([stats.hosmer_lemeshow_test(y_true, y_pred, bins=10, remap=False) \n",
    "              for fn, y_true, y_pred in zip(model_names, gt, pred_train)])\n",
    "pd.DataFrame(hosmer, columns=model_names)"
   ]
  },
  {
   "cell_type": "markdown",
   "id": "c05ff3a6",
   "metadata": {},
   "source": [
    "# 训练Cox模型"
   ]
  },
  {
   "cell_type": "code",
   "execution_count": null,
   "id": "aa253210",
   "metadata": {},
   "outputs": [],
   "source": [
    "from onekey_algo.custom.components import nomogram\n",
    "import shutil\n",
    "\n",
    "ALL_results = ALL_results.round(decimals=2)\n",
    "ALL_results = normalize_df(ALL_results, method='minmax', not_norm=['ID', 'label'])\n",
    "nomogram.risk_nomogram(ALL_results, result=task, columns=cnames + model_names[1:-1], \n",
    "                       width=6000, height=3000,\n",
    "                      x_range='0.01,0.25,0.50,0.75,0.99', save_name='nomogram_risk.png')"
   ]
  },
  {
   "cell_type": "markdown",
   "id": "d7e6b16f",
   "metadata": {},
   "source": [
    "# 验证集-汇总"
   ]
  },
  {
   "cell_type": "code",
   "execution_count": null,
   "id": "5c229cb5",
   "metadata": {},
   "outputs": [],
   "source": [
    "import pandas as pd\n",
    "\n",
    "subset = 'test'\n",
    "Clinic_results = pd.merge(pd.read_csv(f'./results/Clinic_RandomForest_{subset}.csv', header=0), label_data, on='ID', how='inner')\n",
    "DLR_results = pd.merge(pd.read_csv(f'./results/Rad_3DL_ShuffleNet_{subset}.csv', header=0), label_data, on='ID', how='inner')\n",
    "Path_results = pd.merge(pd.read_csv(f'./Pathology/results/Path_XGBoost_{subset}.csv', header=0, converters={'ID': lambda x: f\"{x}.nii.gz\"}), \n",
    "                        label_data, on='ID', how='inner')\n",
    "ALL_results = pd.merge(pd.merge(Clinic_results, DLR_results, on='ID', how='inner'), \n",
    "                                Path_results, on='ID', how='inner')\n",
    "ALL_results.columns = ['ID', '-0', model_names[0], task, \n",
    "                       '-00', model_names[1], '-l',\n",
    "                       '-000', model_names[2], '-ll',]\n",
    "\n",
    "# ALL_results = normalize_df(ALL_results, method='minmax', not_norm=['ID', 'label'])\n",
    "Clinic = pd.read_csv('clinic_sel.csv')[['ID', 'Sex', 'Smoking_History']]\n",
    "cnames = list(Clinic.columns[1:])\n",
    "ALL_results = pd.merge(ALL_results, Clinic, on='ID', how='inner')\n",
    "ALL_results = ALL_results.dropna(axis=1)\n",
    "test_ids = ALL_results[['ID']]\n",
    "ALL_results"
   ]
  },
  {
   "cell_type": "code",
   "execution_count": null,
   "id": "82e32135",
   "metadata": {},
   "outputs": [],
   "source": [
    "from sklearn.linear_model import LogisticRegression\n",
    "from sklearn.svm import SVC\n",
    "from onekey_algo.custom.components import metrics\n",
    "\n",
    "data_x = ALL_results[cnames + model_names[1:-1]]\n",
    "data_y = ALL_results[task]\n",
    "model = LogisticRegression(random_state=0, penalty='none')\n",
    "# model = SVC(probability=True, random_state=0)\n",
    "model.fit(data_x, data_y)\n",
    "results = model.predict_proba(data_x)\n",
    "results = pd.DataFrame(results, index=ALL_results['ID'], columns=[f'{task}-0', f'{task}-1']).reset_index()\n",
    "results.to_csv(f'./results/Nomo_{subset}.csv', index=False, header=True)\n",
    "pd.DataFrame([metrics.analysis_pred_binary(ALL_results[task], results[f'{task}-1'])], \n",
    "                  columns=['acc', 'auc', '95%CI', 'Sensitivity', 'Specificity', 'PPV', 'NPV', 'Precision', 'Recall', 'F1', 'Threshold'])"
   ]
  },
  {
   "cell_type": "code",
   "execution_count": null,
   "id": "34c0db9e",
   "metadata": {},
   "outputs": [],
   "source": [
    "pred_column = [f'{task}-0', f'{task}-1']\n",
    "Nomo_results = pd.read_csv(f'./results/Nomo_{subset}.csv', header=0)\n",
    "Nomo_results.columns = ['ID', 'label-9', model_names[-1]]\n",
    "ALL_results = pd.merge(ALL_results, Nomo_results, on='ID', how='inner')\n",
    "gt = [np.array(ALL_results[task]) for _ in model_names]\n",
    "pred_train = [np.array(ALL_results[d]) for d in model_names]\n",
    "okcomp.comp1.draw_roc(gt, pred_train, labels=model_names, title=f'Cohort {subset} ROC')\n",
    "plt.savefig(f'img/{subset}_auc.svg')"
   ]
  },
  {
   "cell_type": "code",
   "execution_count": null,
   "id": "dd3b5060",
   "metadata": {},
   "outputs": [],
   "source": [
    "from onekey_algo.custom.components.metrics import analysis_pred_binary\n",
    "for mname, y, score in zip(model_names, gt, pred_train):\n",
    "    # 计算验证集指标\n",
    "    acc, auc, ci, tpr, tnr, ppv, npv, precision, recall, f1, thres = analysis_pred_binary(y, score)\n",
    "    ci = f\"{ci[0]:.4f} - {ci[1]:.4f}\"\n",
    "    metric.append((mname, acc, auc, ci, tpr, tnr, ppv, npv, precision, recall, f1, thres, f\"Test\"))\n",
    "pd.DataFrame(metric, index=None, columns=['Signature', 'Accuracy', 'AUC', '95% CI',\n",
    "                                          'Sensitivity', 'Specificity', 'PPV', 'NPV', 'Precision', 'Recall', 'F1',\n",
    "                                          'Threshold', 'Cohort'])"
   ]
  },
  {
   "cell_type": "code",
   "execution_count": null,
   "id": "1337dcc9",
   "metadata": {},
   "outputs": [],
   "source": [
    "delong = []\n",
    "delong_columns = []\n",
    "this_delong = []\n",
    "plt.figure(figsize=(8, 6))\n",
    "cm = np.zeros((len(model_names), len(model_names)))\n",
    "for i, mni in enumerate(model_names):\n",
    "    for j, mnj in enumerate(model_names):\n",
    "        if i <= j:\n",
    "            cm[i][j] = np.nan\n",
    "        else:\n",
    "            cm[i][j] = delong_roc_test(ALL_results[task], ALL_results[mni], ALL_results[mnj])[0][0]\n",
    "cm = pd.DataFrame(cm[1:, :-1], index=model_names[1:], columns=model_names[:-1])\n",
    "draw_matrix(cm, annot=True, cmap='jet_r', cbar=True)\n",
    "plt.title(f'Cohort {subset} Delong')\n",
    "plt.savefig(f'img/delong_each_cohort_{subset}.svg', bbox_inches = 'tight')"
   ]
  },
  {
   "cell_type": "code",
   "execution_count": null,
   "id": "87a0b901",
   "metadata": {},
   "outputs": [],
   "source": [
    "from onekey_algo.custom.components.comp1 import plot_DCA\n",
    "plot_DCA([ALL_results[model_name] for model_name in model_names], \n",
    "         ALL_results[task], title=f'Cohort {subset} DCA', labels=model_names, y_min=-0.15, remap=False)\n",
    "plt.savefig(f'img/{subset}_dca.svg')"
   ]
  },
  {
   "cell_type": "code",
   "execution_count": null,
   "id": "06ec3d00",
   "metadata": {
    "scrolled": false
   },
   "outputs": [],
   "source": [
    "from onekey_algo.custom.components.comp1 import draw_calibration\n",
    "draw_calibration(pred_scores=pred_train, n_bins=5, remap=True,# smooth=True,\n",
    "                 y_test=gt, model_names=model_names)\n",
    "plt.savefig(f'img/{subset}_cali.svg')"
   ]
  },
  {
   "cell_type": "code",
   "execution_count": null,
   "id": "98ab55f1",
   "metadata": {},
   "outputs": [],
   "source": [
    "from onekey_algo.custom.components import stats\n",
    "\n",
    "hosmer.append([stats.hosmer_lemeshow_test(y_true, y_pred, bins=5, remap=False) \n",
    "              for fn, y_true, y_pred in zip(model_names, gt, pred_train)])\n",
    "pd.concat([pd.DataFrame(hosmer, columns=model_names), pd.DataFrame(['Train', 'Test'], columns=['Cohort'])], axis=1)"
   ]
  },
  {
   "cell_type": "code",
   "execution_count": null,
   "id": "f0290c46",
   "metadata": {},
   "outputs": [],
   "source": [
    "import venn\n",
    "\n",
    "venn_labels = venn.generate_petal_labels([set(pd.read_csv('group.csv')['ID']),\n",
    "                                          set(pd.read_csv('Pathology/group.csv', converters={'ID': lambda x: f\"{x}.nii.gz\"})['ID']),\n",
    "                                          set(train_ids['ID'])])\n",
    "fig, ax = venn.venn2(venn_labels, names=['Radiomics', 'Pathomics', 'Train'], figsize=(10, 10))\n",
    "fig.savefig('img/venn_samples.svg', bbox_inches='tight')\n",
    "fig.show()"
   ]
  },
  {
   "cell_type": "code",
   "execution_count": null,
   "id": "c8d7fcfd",
   "metadata": {},
   "outputs": [],
   "source": [
    "train_ids['group'] = 'train'\n",
    "test_ids['group'] = 'test'\n",
    "\n",
    "pd.concat([train_ids, test_ids], axis=0).to_csv('data/joinit_ids.csv', index=False)"
   ]
  },
  {
   "cell_type": "code",
   "execution_count": null,
   "id": "1ee44758",
   "metadata": {},
   "outputs": [],
   "source": []
  }
 ],
 "metadata": {
  "kernelspec": {
   "display_name": "Python 3 (ipykernel)",
   "language": "python",
   "name": "python3"
  },
  "language_info": {
   "codemirror_mode": {
    "name": "ipython",
    "version": 3
   },
   "file_extension": ".py",
   "mimetype": "text/x-python",
   "name": "python",
   "nbconvert_exporter": "python",
   "pygments_lexer": "ipython3",
   "version": "3.7.12"
  }
 },
 "nbformat": 4,
 "nbformat_minor": 5
}
