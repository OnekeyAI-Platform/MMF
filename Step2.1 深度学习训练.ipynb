{
 "cells": [
  {
   "cell_type": "markdown",
   "id": "e8b27860",
   "metadata": {},
   "source": [
    "# What\n",
    "分类任务，支持两种模式\n",
    "1. Folder模式，需要输入`train`, `valid`两个测试集对应的目录。`labels.txt`，需要训练的label，里面每个类别一行。\n",
    "2. List模式，需要输入`train`, `valid`两个测试集对应的训练文件，每行一个样本。`labels.txt`是可选参数，里面每个类别一行。`data_pattern`一个通用的目录，与train、val中的第一列进行拼接。"
   ]
  },
  {
   "cell_type": "markdown",
   "id": "0e861016",
   "metadata": {},
   "source": [
    "### List模式\n",
    "\n",
    "在Onekey中List模式一般是采用labelme标注出来的结果，如果要使用自己的数据应用List模式，需要根据自己的实际情况对数据进行处理。\n",
    "\n",
    "* `train.txt`，训练数据列表，中间用\\t（Tab水平制表符）进行分割。\n",
    "* `val.txt`，验证数据列表，中间用\\t（Tab水平制表符）进行分割。\n",
    "* `labels.txt`，label的集合，表明训练数据多少标签。\n",
    "* `data_pattern`参数，所有数据存在的目录的公共前缀，如果`train.txt`,`val.txt`文件里面存放的是绝对路径，`data_pattern`设置为None即可。"
   ]
  },
  {
   "cell_type": "code",
   "execution_count": null,
   "id": "7050436a",
   "metadata": {},
   "outputs": [],
   "source": [
    "import os\n",
    "from collections import namedtuple\n",
    "\n",
    "from onekey_algo.classification3d.run_classification3d import main as clf_main3d\n",
    "from onekey_algo import get_param_in_cwd\n",
    "# 设置参数\n",
    "\n",
    "for cv in range(4, 5):\n",
    "    save_dir =get_param_in_cwd('data_root')\n",
    "    train = os.path.join(save_dir, 'split_info', f'train-RND-{cv}.txt')\n",
    "    val = os.path.join(save_dir, 'split_info', f'val-RND-{cv}.txt')\n",
    "    data_pattern = os.path.join(save_dir, 'Radiology', 'crop3d')\n",
    "    labels_file = os.path.join(save_dir, 'split_info', 'labels.txt')\n",
    "    for model_name in ['resnet18', 'resnet50', 'ShuffleNet', 'DenseNet121'][3:]:\n",
    "        params = dict(train=train,\n",
    "                      val=val,\n",
    "                      labels_file=labels_file,\n",
    "                      data_pattern=data_pattern,\n",
    "                      j=6,\n",
    "                      max2use=None,\n",
    "                      normalize_method='imagenet',\n",
    "                      model_name=model_name,\n",
    "                      gpus=[0],\n",
    "                      roi_size=[96, 96, 96],\n",
    "                      batch_size=4,\n",
    "                      epochs=48,\n",
    "                      init_lr=0.001,\n",
    "                      optimizer='adam',\n",
    "                      retrain=None,\n",
    "                      model_root=os.path.join(save_dir, 'Radiology', 'models', f\"CV-{cv}\"),\n",
    "                      val_interval=1,\n",
    "                      iters_verbose=10,\n",
    "                      model_config={'groups': 1, 'blocks_args': 'efficientnet-b4'},\n",
    "                      pretrained=True)\n",
    "        # 训练模型\n",
    "        Args = namedtuple(\"Args\", params)\n",
    "        clf_main3d(Args(**params))"
   ]
  },
  {
   "cell_type": "code",
   "execution_count": null,
   "id": "ce1f8dc1",
   "metadata": {},
   "outputs": [],
   "source": []
  }
 ],
 "metadata": {
  "kernelspec": {
   "display_name": "Python 3 (ipykernel)",
   "language": "python",
   "name": "python3"
  },
  "language_info": {
   "codemirror_mode": {
    "name": "ipython",
    "version": 3
   },
   "file_extension": ".py",
   "mimetype": "text/x-python",
   "name": "python",
   "nbconvert_exporter": "python",
   "pygments_lexer": "ipython3",
   "version": "3.7.12"
  }
 },
 "nbformat": 4,
 "nbformat_minor": 5
}
